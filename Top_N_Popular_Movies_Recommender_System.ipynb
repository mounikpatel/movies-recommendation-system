{
  "nbformat": 4,
  "nbformat_minor": 0,
  "metadata": {
    "colab": {
      "name": "Top-N Popular Movies Recommender System.ipynb",
      "provenance": [],
      "collapsed_sections": []
    },
    "kernelspec": {
      "name": "python3",
      "display_name": "Python 3"
    },
    "language_info": {
      "name": "python"
    }
  },
  "cells": [
    {
      "cell_type": "markdown",
      "metadata": {
        "id": "jdrW4F9BVixR"
      },
      "source": [
        "### Importing libraries and Downloading datasets"
      ]
    },
    {
      "cell_type": "code",
      "metadata": {
        "id": "kSDYMJOqu7GF"
      },
      "source": [
        "#Loading the libraries\n",
        "import numpy as np\n",
        "import pandas as pd"
      ],
      "execution_count": 1,
      "outputs": []
    },
    {
      "cell_type": "code",
      "metadata": {
        "colab": {
          "base_uri": "https://localhost:8080/"
        },
        "id": "ZMP5rj41vE4o",
        "outputId": "8f6c0222-85b8-427f-fcd6-02ba1d0c572b"
      },
      "source": [
        "#Downloading and unzipping the required files\n",
        "!wget -O ml-25m.zip https://files.grouplens.org/datasets/movielens/ml-25m.zip\n",
        "!unzip -o -j ml-25m.zip"
      ],
      "execution_count": 2,
      "outputs": [
        {
          "output_type": "stream",
          "text": [
            "--2021-08-11 18:23:59--  https://files.grouplens.org/datasets/movielens/ml-25m.zip\n",
            "Resolving files.grouplens.org (files.grouplens.org)... 128.101.65.152\n",
            "Connecting to files.grouplens.org (files.grouplens.org)|128.101.65.152|:443... connected.\n",
            "HTTP request sent, awaiting response... 200 OK\n",
            "Length: 261978986 (250M) [application/zip]\n",
            "Saving to: ‘ml-25m.zip’\n",
            "\n",
            "ml-25m.zip          100%[===================>] 249.84M  5.98MB/s    in 40s     \n",
            "\n",
            "2021-08-11 18:24:41 (6.17 MB/s) - ‘ml-25m.zip’ saved [261978986/261978986]\n",
            "\n",
            "Archive:  ml-25m.zip\n",
            "  inflating: tags.csv                \n",
            "  inflating: links.csv               \n",
            "  inflating: README.txt              \n",
            "  inflating: ratings.csv             \n",
            "  inflating: genome-tags.csv         \n",
            "  inflating: genome-scores.csv       \n",
            "  inflating: movies.csv              \n"
          ],
          "name": "stdout"
        }
      ]
    },
    {
      "cell_type": "markdown",
      "metadata": {
        "id": "UUF46yqWV9B2"
      },
      "source": [
        "### Reading datasets"
      ]
    },
    {
      "cell_type": "code",
      "metadata": {
        "id": "B9O6UtKtvFUe"
      },
      "source": [
        "#Reading 'ratings.csv' file\n",
        "ratings_data = pd.read_csv('ratings.csv').drop('timestamp',1)"
      ],
      "execution_count": 3,
      "outputs": []
    },
    {
      "cell_type": "code",
      "metadata": {
        "id": "Ng__M8WyvI3Z"
      },
      "source": [
        "#Reading 'movies.csv' file\n",
        "movies_data = pd.read_csv('movies.csv')"
      ],
      "execution_count": 4,
      "outputs": []
    },
    {
      "cell_type": "markdown",
      "metadata": {
        "id": "JvvG0uG-WF2C"
      },
      "source": [
        "### Data Preprocessing"
      ]
    },
    {
      "cell_type": "code",
      "metadata": {
        "id": "SOH_PPJyvLar"
      },
      "source": [
        "#Extracting 'year' from 'title' column and saving it in another column\n",
        "movies_data['year'] = movies_data['title'].str.extract('(\\(\\d\\d\\d\\d\\))',expand=False)\n",
        "movies_data['year'] = movies_data['year'].str.extract('(\\d\\d\\d\\d)',expand=False)"
      ],
      "execution_count": 5,
      "outputs": []
    },
    {
      "cell_type": "code",
      "metadata": {
        "id": "mcs93YlcvTSE"
      },
      "source": [
        "#Replacing all null values with 0\n",
        "movies_data = movies_data.replace(np.NaN,int(0))\n",
        "\n",
        "#Typecasting the attributes into relevant datatypes\n",
        "movies_data['year'] = [int(str(i).replace(\",\", \"\")) for i in movies_data['year']]\n",
        "movies_data['genres'] = [str(i).replace(\",\", \"\") for i in movies_data['genres']]"
      ],
      "execution_count": 6,
      "outputs": []
    },
    {
      "cell_type": "markdown",
      "metadata": {
        "id": "wL6war82W_vp"
      },
      "source": [
        "### Top-N Popular Movies Recommender System (Function Implementation)\n",
        "\n",
        "---\n",
        "\n",
        "Note:\n",
        "*   Dataset has movies released until 2019. So, you will get recommendations of movies released till 2019 only.\n",
        "*   Dataset has following genres: [Action, Adventure, Animation, Children's, Comedy, Crime, Documentary, Drama, Fantasy, Film-Noir, Horror, Musical, Mystery, Romance, Sci-Fi, Thriller, War, Western]. So, choose among one of them."
      ]
    },
    {
      "cell_type": "code",
      "metadata": {
        "id": "ALwmlQWovdFB"
      },
      "source": [
        "#Function definition for Top-N Popular Movie Recommendations (given year range and genre)\n",
        "def get_top_popular_recommendations(top_n, from_year, to_year, genre):\n",
        "  \n",
        "  #List of genres available in dataset\n",
        "  genre_list = ['Action', 'Adventure', 'Animation', \"Children's\", 'Comedy', 'Crime', 'Documentary', 'Drama', 'Fantasy', \n",
        "                'Film-noir', 'Horror', 'Musical', 'Mystery', 'Romance', 'Sci-fi', 'Thriller', 'War', 'Western']\n",
        "\n",
        "  #Conditional statements for avoiding user to input anything out of bounds\n",
        "  if from_year < 1850 and to_year > 2019:\n",
        "    print(\"Please input year between 1850-2019 (both inclusive)\")\n",
        "  elif genre.capitalize() not in genre_list:\n",
        "    print(\"Please input genre from the above mentioned list !!!\")\n",
        "  \n",
        "  #If correct inputs mentioned, then implementing the function\n",
        "  else:\n",
        "\n",
        "    #Capitalizing the 'genre' argument as it is mentioned as in Capitalized format\n",
        "    genre = genre.capitalize()\n",
        "\n",
        "    #Filtering the 'movies' dataset for given year-range\n",
        "    movies_by_year = movies_data[(movies_data.year >= from_year) & (movies_data.year <= to_year)]\n",
        "\n",
        "    #Filtering the above filtered 'movies' dataset by genre provided by user\n",
        "    movies_by_genre = movies_by_year[movies_by_year.genres.str.contains(genre,case=False)]\n",
        "\n",
        "    #Removing movies which has 'no genres listed' from movies_by_genre\n",
        "    movies_by_genre = movies_by_genre[movies_by_genre.genres != '(no genres listed']\n",
        "\n",
        "    #Merging 'movies' dataset with 'ratings' dataset\n",
        "    movies_ratings = pd.merge(ratings_data, movies_by_genre, on='movieId')\n",
        "\n",
        "    #Ratings for movie and number of people who rated movie grouped by for each movie\n",
        "    ratings_avg_count = pd.DataFrame(movies_ratings.groupby('title')['rating'].mean())\n",
        "    ratings_avg_count.rename(columns={'rating':'ratings_avg'}, inplace=True)\n",
        "    ratings_avg_count['ratings_count'] = pd.DataFrame(movies_ratings.groupby('title')['rating'].count())\n",
        "\n",
        "    #Calculating Average Ratings provided to movies within given year-range\n",
        "    avg_rating = ratings_avg_count['ratings_avg'].mean()\n",
        "\n",
        "    #Calculating Average Count of people who rated movies within given year-range\n",
        "    avg_count = ratings_avg_count['ratings_count'].mean()\n",
        "    \n",
        "    #Filtering the dataset for providing top-N popular movies more than average ratings and average count\n",
        "    ratings_avg_count = ratings_avg_count[(ratings_avg_count.ratings_avg > avg_rating) & (ratings_avg_count.ratings_count > avg_count)]\n",
        "\n",
        "    #Selecting top-N popular movies from the movies list (sorted descending by number of people who rated movie)\n",
        "    recommendations = ratings_avg_count.sort_values(by='ratings_count',ascending=False).head(top_n)\n",
        "\n",
        "    #Resetting the index of recommendations dataframe\n",
        "    recommendations.reset_index(level=0, inplace=True)\n",
        "\n",
        "    #Setting the columns title and index from 1 for recommendations dataframe\n",
        "    recommendations.columns = ['title','ratings_avg','ratings_count']\n",
        "    recommendations.index += 1\n",
        "    \n",
        "    #Printing the statement for movie recommendations to users\n",
        "    print(f'Top-{top_n} Popular {genre} Movies from {from_year} to {to_year} recommended for you:' )\n",
        "\n",
        "    #Returning top-N popular movies recommendations to function call\n",
        "    return recommendations"
      ],
      "execution_count": 7,
      "outputs": []
    },
    {
      "cell_type": "code",
      "metadata": {
        "colab": {
          "base_uri": "https://localhost:8080/",
          "height": 376
        },
        "id": "ZH9F-hg33sPq",
        "outputId": "59b6c7bc-03b0-4008-b7f8-446e691ee047"
      },
      "source": [
        "#Function call for top-N Popular Movie Recommendations \n",
        "#(User need to input number of movies required as recommendations, from_year, to_year and genre)\n",
        "get_top_popular_recommendations(10, 2011, 2015, 'action')"
      ],
      "execution_count": 8,
      "outputs": [
        {
          "output_type": "stream",
          "text": [
            "Top-10 Popular Action Movies from 2011 to 2015 recommended for you:\n"
          ],
          "name": "stdout"
        },
        {
          "output_type": "execute_result",
          "data": {
            "text/html": [
              "<div>\n",
              "<style scoped>\n",
              "    .dataframe tbody tr th:only-of-type {\n",
              "        vertical-align: middle;\n",
              "    }\n",
              "\n",
              "    .dataframe tbody tr th {\n",
              "        vertical-align: top;\n",
              "    }\n",
              "\n",
              "    .dataframe thead th {\n",
              "        text-align: right;\n",
              "    }\n",
              "</style>\n",
              "<table border=\"1\" class=\"dataframe\">\n",
              "  <thead>\n",
              "    <tr style=\"text-align: right;\">\n",
              "      <th></th>\n",
              "      <th>title</th>\n",
              "      <th>ratings_avg</th>\n",
              "      <th>ratings_count</th>\n",
              "    </tr>\n",
              "  </thead>\n",
              "  <tbody>\n",
              "    <tr>\n",
              "      <th>1</th>\n",
              "      <td>Django Unchained (2012)</td>\n",
              "      <td>4.004882</td>\n",
              "      <td>20687</td>\n",
              "    </tr>\n",
              "    <tr>\n",
              "      <th>2</th>\n",
              "      <td>Dark Knight Rises, The (2012)</td>\n",
              "      <td>3.971349</td>\n",
              "      <td>19912</td>\n",
              "    </tr>\n",
              "    <tr>\n",
              "      <th>3</th>\n",
              "      <td>Avengers, The (2012)</td>\n",
              "      <td>3.780247</td>\n",
              "      <td>17572</td>\n",
              "    </tr>\n",
              "    <tr>\n",
              "      <th>4</th>\n",
              "      <td>Guardians of the Galaxy (2014)</td>\n",
              "      <td>3.932247</td>\n",
              "      <td>16324</td>\n",
              "    </tr>\n",
              "    <tr>\n",
              "      <th>5</th>\n",
              "      <td>The Hunger Games (2012)</td>\n",
              "      <td>3.518994</td>\n",
              "      <td>13741</td>\n",
              "    </tr>\n",
              "    <tr>\n",
              "      <th>6</th>\n",
              "      <td>Mad Max: Fury Road (2015)</td>\n",
              "      <td>3.855034</td>\n",
              "      <td>13479</td>\n",
              "    </tr>\n",
              "    <tr>\n",
              "      <th>7</th>\n",
              "      <td>Harry Potter and the Deathly Hallows: Part 2 (...</td>\n",
              "      <td>3.906986</td>\n",
              "      <td>13455</td>\n",
              "    </tr>\n",
              "    <tr>\n",
              "      <th>8</th>\n",
              "      <td>Star Wars: Episode VII - The Force Awakens (2015)</td>\n",
              "      <td>3.739115</td>\n",
              "      <td>12678</td>\n",
              "    </tr>\n",
              "    <tr>\n",
              "      <th>9</th>\n",
              "      <td>Edge of Tomorrow (2014)</td>\n",
              "      <td>3.940080</td>\n",
              "      <td>12425</td>\n",
              "    </tr>\n",
              "    <tr>\n",
              "      <th>10</th>\n",
              "      <td>Gravity (2013)</td>\n",
              "      <td>3.617050</td>\n",
              "      <td>12264</td>\n",
              "    </tr>\n",
              "  </tbody>\n",
              "</table>\n",
              "</div>"
            ],
            "text/plain": [
              "                                                title  ...  ratings_count\n",
              "1                             Django Unchained (2012)  ...          20687\n",
              "2                       Dark Knight Rises, The (2012)  ...          19912\n",
              "3                                Avengers, The (2012)  ...          17572\n",
              "4                      Guardians of the Galaxy (2014)  ...          16324\n",
              "5                             The Hunger Games (2012)  ...          13741\n",
              "6                           Mad Max: Fury Road (2015)  ...          13479\n",
              "7   Harry Potter and the Deathly Hallows: Part 2 (...  ...          13455\n",
              "8   Star Wars: Episode VII - The Force Awakens (2015)  ...          12678\n",
              "9                             Edge of Tomorrow (2014)  ...          12425\n",
              "10                                     Gravity (2013)  ...          12264\n",
              "\n",
              "[10 rows x 3 columns]"
            ]
          },
          "metadata": {
            "tags": []
          },
          "execution_count": 8
        }
      ]
    }
  ]
}