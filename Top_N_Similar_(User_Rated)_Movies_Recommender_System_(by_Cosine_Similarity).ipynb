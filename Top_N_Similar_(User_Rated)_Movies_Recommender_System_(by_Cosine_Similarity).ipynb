{
  "nbformat": 4,
  "nbformat_minor": 0,
  "metadata": {
    "colab": {
      "name": "Top-N Similar (User-Rated) Movies Recommender System (by Cosine Similarity).ipynb",
      "provenance": [],
      "collapsed_sections": []
    },
    "kernelspec": {
      "name": "python3",
      "display_name": "Python 3"
    },
    "language_info": {
      "name": "python"
    }
  },
  "cells": [
    {
      "cell_type": "markdown",
      "metadata": {
        "id": "jdrW4F9BVixR"
      },
      "source": [
        "### Importing libraries and Downloading datasets"
      ]
    },
    {
      "cell_type": "code",
      "metadata": {
        "id": "ORILj7WY5YCp"
      },
      "source": [
        "#Loading the libraries\n",
        "import numpy as np\n",
        "import pandas as pd\n",
        "import sklearn.metrics.pairwise as pw\n",
        "from scipy import sparse"
      ],
      "execution_count": 1,
      "outputs": []
    },
    {
      "cell_type": "code",
      "metadata": {
        "colab": {
          "base_uri": "https://localhost:8080/"
        },
        "id": "BXnckTLJ5hd0",
        "outputId": "e2b94e20-d96b-4b11-a78d-6ba59430a1d3"
      },
      "source": [
        "#Downloading and unzipping the required files\n",
        "!wget -O ml-latest-small.zip https://files.grouplens.org/datasets/movielens/ml-latest-small.zip\n",
        "!unzip -o -j ml-latest-small.zip"
      ],
      "execution_count": 2,
      "outputs": [
        {
          "output_type": "stream",
          "text": [
            "--2021-08-11 18:20:32--  https://files.grouplens.org/datasets/movielens/ml-latest-small.zip\n",
            "Resolving files.grouplens.org (files.grouplens.org)... 128.101.65.152\n",
            "Connecting to files.grouplens.org (files.grouplens.org)|128.101.65.152|:443... connected.\n",
            "HTTP request sent, awaiting response... 200 OK\n",
            "Length: 978202 (955K) [application/zip]\n",
            "Saving to: ‘ml-latest-small.zip’\n",
            "\n",
            "ml-latest-small.zip 100%[===================>] 955.28K  2.67MB/s    in 0.3s    \n",
            "\n",
            "2021-08-11 18:20:33 (2.67 MB/s) - ‘ml-latest-small.zip’ saved [978202/978202]\n",
            "\n",
            "Archive:  ml-latest-small.zip\n",
            "  inflating: links.csv               \n",
            "  inflating: tags.csv                \n",
            "  inflating: ratings.csv             \n",
            "  inflating: README.txt              \n",
            "  inflating: movies.csv              \n"
          ],
          "name": "stdout"
        }
      ]
    },
    {
      "cell_type": "markdown",
      "metadata": {
        "id": "UUF46yqWV9B2"
      },
      "source": [
        "### Reading datasets"
      ]
    },
    {
      "cell_type": "code",
      "metadata": {
        "id": "nZostVxs5xj2"
      },
      "source": [
        "#Reading 'ratings.csv' file\n",
        "ratings_data = pd.read_csv('ratings.csv').drop('timestamp',1)"
      ],
      "execution_count": 3,
      "outputs": []
    },
    {
      "cell_type": "code",
      "metadata": {
        "id": "5PgIN2mV5x7n"
      },
      "source": [
        "#Reading 'movies.csv' file\n",
        "movies_data = pd.read_csv('movies.csv').drop('genres',1)"
      ],
      "execution_count": 4,
      "outputs": []
    },
    {
      "cell_type": "markdown",
      "metadata": {
        "id": "JvvG0uG-WF2C"
      },
      "source": [
        "### Data Preprocessing"
      ]
    },
    {
      "cell_type": "code",
      "metadata": {
        "id": "GT_Grgwi51_8"
      },
      "source": [
        "#Extracting 'year' from 'title' column and saving it in another column\n",
        "movies_data['year'] = movies_data['title'].str.extract('(\\(\\d\\d\\d\\d\\))',expand=False)\n",
        "movies_data['year'] = movies_data['year'].str.extract('(\\d\\d\\d\\d)',expand=False)"
      ],
      "execution_count": 5,
      "outputs": []
    },
    {
      "cell_type": "code",
      "metadata": {
        "id": "sKvvv9Tk57Go"
      },
      "source": [
        "#Replacing all null values in 'year' column with 0\n",
        "movies_data['year'] = movies_data['year'].replace(np.NaN,int(0))\n",
        "\n",
        "#Typecasting the attributes into relevant datatypes\n",
        "movies_data['year'] = [int(str(i).replace(\",\", \"\")) for i in movies_data['year']]"
      ],
      "execution_count": 6,
      "outputs": []
    },
    {
      "cell_type": "markdown",
      "metadata": {
        "id": "9AsDcSEjhmg7"
      },
      "source": [
        "### Function implementation of Top-N Similar (User-Rated) Movies Recommender System (by Cosine Similarity)\n",
        "\n",
        "---\n",
        "\n",
        "Note: Dataset has movies released until 2018. So, you will get recommendations of movies released till 2018 only."
      ]
    },
    {
      "cell_type": "code",
      "metadata": {
        "id": "2629as056Cho"
      },
      "source": [
        "#Function definition for Top-N Similar Movie Recommendations (given year range and movie)\n",
        "def get_top_similar_recommendations(n, from_year, to_year, movie):\n",
        "\n",
        "  #Conditional statements for avoiding user to input anything out of bounds\n",
        "  if from_year < 1850 and to_year > 2018:\n",
        "    print(\"Please input year between 1850-2018 (both inclusive) !!!\")\n",
        "  elif int(movie[-5:-1]) < from_year or int(movie[-5:-1]) > to_year:\n",
        "    print(\"Movie given as input must be under the requested year-range provided by user !!!\")\n",
        "\n",
        "  #If correct inputs mentioned, then implementing the function\n",
        "  else:\n",
        "\n",
        "    #Filtering the 'movies' dataset for given year-range\n",
        "    movies_by_year = movies_data[(movies_data.year >= from_year) & (movies_data.year <= to_year)]  \n",
        "\n",
        "    #Merging 'movies_by_year' dataset with 'ratings' dataset\n",
        "    movies_ratings = pd.merge(ratings_data, movies_by_year, on='movieId')\n",
        "\n",
        "    #Ratings for movie and number of people who rated movie grouped by for each movie\n",
        "    ratings_avg_count = pd.DataFrame(movies_ratings.groupby('title')['rating'].mean())\n",
        "    ratings_avg_count.rename(columns={'rating':'ratings_avg'}, inplace=True)\n",
        "    ratings_avg_count['ratings_count'] = pd.DataFrame(movies_ratings.groupby('title')['rating'].count())\n",
        "\n",
        "    #Creating user-ratings matrix for each user giving rating to different movies\n",
        "    ratings_matrix = pd.pivot_table(movies_ratings, index=['title'], columns=['userId'], values='rating')\n",
        "\n",
        "    #Compressing rows of ratings_matrix due to computational expenses\n",
        "    sparse_ratings_matrix = sparse.csr_matrix(ratings_matrix.fillna(0))\n",
        "\n",
        "    #Calculating similarity between movies w.r.t ratings using cosine similarity function\n",
        "    cosine_similarity = pw.cosine_similarity(sparse_ratings_matrix)\n",
        "    \n",
        "    #Creating dataframe using cosine similarity score betwen each movies\n",
        "    movies_similarity = pd.DataFrame(cosine_similarity, columns=ratings_matrix.index, index=ratings_matrix.index)\n",
        "\n",
        "    #Creating dataframe by filtering the cosine similary score of movie provided by user and sorting it in descending order\n",
        "    recommendations = pd.DataFrame(movies_similarity[movie].sort_values(ascending=False))\n",
        "\n",
        "    #Joining the count of people who rated movie with recommendations dataframe\n",
        "    recommendations = recommendations.join(ratings_avg_count['ratings_count'])\n",
        "\n",
        "    #Resetting the index of recommendations dataframe\n",
        "    recommendations.reset_index(level=0, inplace=True)\n",
        "\n",
        "    #Setting the columns' title for recommendations dataframe\n",
        "    recommendations.columns = ['title','similarity_score','ratings_count']\n",
        "\n",
        "    #Calculating Top 0.01% count of people who rated movies\n",
        "    top_count = ratings_avg_count['ratings_count'].quantile(0.99)\n",
        "\n",
        "    #Filtering the dataframe by removing all the recommendations below top 0.01% count\n",
        "    #Sorting it in descending order by similarity score and selecting top-N + 1 recommendations (because first movie will be the same input movie)\n",
        "    recommendations = recommendations[recommendations['ratings_count'] > top_count].sort_values(by='similarity_score', ascending = False).head(n+1)\n",
        "\n",
        "    #Printing the statement for movie recommendations to users\n",
        "    print(f'Users who watched {movie} also watched these movies released in {from_year}-{to_year}:' )\n",
        "\n",
        "  #Returning top-N similar movie recommendations to function call\n",
        "  #Excluding first movie which is the same as input movie since it has highest similarity score (of 1)\n",
        "  return recommendations[1:]"
      ],
      "execution_count": 7,
      "outputs": []
    },
    {
      "cell_type": "code",
      "metadata": {
        "colab": {
          "base_uri": "https://localhost:8080/",
          "height": 376
        },
        "id": "WdPj3fKM7enR",
        "outputId": "8825e137-d1e4-4b67-f016-fc9a3ee848a4"
      },
      "source": [
        "#Function call for top-N Similar Movie Recommendations (by Cosine Similarity)\n",
        "#(User need to input number of movies required as recommendations, from_year, to_year and movie)\n",
        "#Also, user need to input movie in the format 'Movie_title (Release_year)'\n",
        "get_top_similar_recommendations(10, 2005, 2015, 'Inception (2010)')"
      ],
      "execution_count": 8,
      "outputs": [
        {
          "output_type": "stream",
          "text": [
            "Users who watched Inception (2010) also watched these movies released in 2005-2015:\n"
          ],
          "name": "stdout"
        },
        {
          "output_type": "execute_result",
          "data": {
            "text/html": [
              "<div>\n",
              "<style scoped>\n",
              "    .dataframe tbody tr th:only-of-type {\n",
              "        vertical-align: middle;\n",
              "    }\n",
              "\n",
              "    .dataframe tbody tr th {\n",
              "        vertical-align: top;\n",
              "    }\n",
              "\n",
              "    .dataframe thead th {\n",
              "        text-align: right;\n",
              "    }\n",
              "</style>\n",
              "<table border=\"1\" class=\"dataframe\">\n",
              "  <thead>\n",
              "    <tr style=\"text-align: right;\">\n",
              "      <th></th>\n",
              "      <th>title</th>\n",
              "      <th>similarity_score</th>\n",
              "      <th>ratings_count</th>\n",
              "    </tr>\n",
              "  </thead>\n",
              "  <tbody>\n",
              "    <tr>\n",
              "      <th>1</th>\n",
              "      <td>Dark Knight, The (2008)</td>\n",
              "      <td>0.727263</td>\n",
              "      <td>149</td>\n",
              "    </tr>\n",
              "    <tr>\n",
              "      <th>2</th>\n",
              "      <td>Inglourious Basterds (2009)</td>\n",
              "      <td>0.646103</td>\n",
              "      <td>88</td>\n",
              "    </tr>\n",
              "    <tr>\n",
              "      <th>3</th>\n",
              "      <td>Shutter Island (2010)</td>\n",
              "      <td>0.617736</td>\n",
              "      <td>67</td>\n",
              "    </tr>\n",
              "    <tr>\n",
              "      <th>4</th>\n",
              "      <td>Dark Knight Rises, The (2012)</td>\n",
              "      <td>0.617504</td>\n",
              "      <td>76</td>\n",
              "    </tr>\n",
              "    <tr>\n",
              "      <th>5</th>\n",
              "      <td>Interstellar (2014)</td>\n",
              "      <td>0.608150</td>\n",
              "      <td>73</td>\n",
              "    </tr>\n",
              "    <tr>\n",
              "      <th>6</th>\n",
              "      <td>Up (2009)</td>\n",
              "      <td>0.606173</td>\n",
              "      <td>105</td>\n",
              "    </tr>\n",
              "    <tr>\n",
              "      <th>7</th>\n",
              "      <td>Avengers, The (2012)</td>\n",
              "      <td>0.586504</td>\n",
              "      <td>69</td>\n",
              "    </tr>\n",
              "    <tr>\n",
              "      <th>8</th>\n",
              "      <td>Django Unchained (2012)</td>\n",
              "      <td>0.581342</td>\n",
              "      <td>71</td>\n",
              "    </tr>\n",
              "    <tr>\n",
              "      <th>9</th>\n",
              "      <td>Departed, The (2006)</td>\n",
              "      <td>0.580849</td>\n",
              "      <td>107</td>\n",
              "    </tr>\n",
              "    <tr>\n",
              "      <th>10</th>\n",
              "      <td>Iron Man (2008)</td>\n",
              "      <td>0.572546</td>\n",
              "      <td>94</td>\n",
              "    </tr>\n",
              "  </tbody>\n",
              "</table>\n",
              "</div>"
            ],
            "text/plain": [
              "                            title  similarity_score  ratings_count\n",
              "1         Dark Knight, The (2008)          0.727263            149\n",
              "2     Inglourious Basterds (2009)          0.646103             88\n",
              "3           Shutter Island (2010)          0.617736             67\n",
              "4   Dark Knight Rises, The (2012)          0.617504             76\n",
              "5             Interstellar (2014)          0.608150             73\n",
              "6                       Up (2009)          0.606173            105\n",
              "7            Avengers, The (2012)          0.586504             69\n",
              "8         Django Unchained (2012)          0.581342             71\n",
              "9            Departed, The (2006)          0.580849            107\n",
              "10                Iron Man (2008)          0.572546             94"
            ]
          },
          "metadata": {
            "tags": []
          },
          "execution_count": 8
        }
      ]
    }
  ]
}